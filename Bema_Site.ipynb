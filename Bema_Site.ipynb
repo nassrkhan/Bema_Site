{
 "cells": [
  {
   "cell_type": "markdown",
   "metadata": {},
   "source": [
    "Importing the necessary modules and packages"
   ]
  },
  {
   "cell_type": "code",
   "execution_count": 9,
   "metadata": {},
   "outputs": [],
   "source": [
    "import csv\n",
    "from selenium import webdriver\n",
    "import undetected_chromedriver as uc\n",
    "from selenium.webdriver.common.by import By\n",
    "from selenium.webdriver.chrome.options import Options\n",
    "from selenium.webdriver.chrome.service import Service\n",
    "from selenium.webdriver.support.ui import WebDriverWait\n",
    "from selenium.webdriver.support import expected_conditions as EC"
   ]
  },
  {
   "cell_type": "markdown",
   "metadata": {},
   "source": [
    "Automate the Chrome Browser"
   ]
  },
  {
   "cell_type": "code",
   "execution_count": 10,
   "metadata": {},
   "outputs": [],
   "source": [
    "driver_path = \"./chromedriver.exe\"\n",
    "\n",
    "chrome_options = Options()\n",
    "\n",
    "service = Service(driver_path)\n",
    "\n",
    "driver = webdriver.Chrome(service=service, options=chrome_options)\n"
   ]
  },
  {
   "cell_type": "markdown",
   "metadata": {},
   "source": [
    "Function named Products_links that retrieves the links of products from a given URL"
   ]
  },
  {
   "cell_type": "code",
   "execution_count": 11,
   "metadata": {},
   "outputs": [],
   "source": [
    "All_Product=[]\n",
    "def Products_links(url):\n",
    "    \n",
    "    driver.get(url)\n",
    "    list_wrapper = WebDriverWait(driver, 10).until(EC.presence_of_element_located((By.CLASS_NAME, \"list-wrapper\")))\n",
    "    a_elements = list_wrapper.find_elements(By.TAG_NAME, \"a\")\n",
    "        \n",
    "    for a in a_elements:\n",
    "        All_Product.append(a.get_attribute('href'))\n",
    "        pro = All_Product\n",
    "        All_Product.clear\n",
    "    return pro"
   ]
  },
  {
   "attachments": {},
   "cell_type": "markdown",
   "metadata": {},
   "source": [
    " A function named Product_details that retrieves various details of products from a list of links and stores the information in a CSV file."
   ]
  },
  {
   "cell_type": "code",
   "execution_count": 12,
   "metadata": {},
   "outputs": [],
   "source": [
    "Title=[];Title_url=[];Product_number=[];Short_des=[];Price=[];Image_url=[];Description=[]\n",
    "\n",
    "def Product_details(file_name,links):\n",
    "    c = 0\n",
    "    for i in links:\n",
    "\n",
    "        driver.get(i)\n",
    "        driver.implicitly_wait(15)\n",
    "        \n",
    "        try:\n",
    "            h1 = driver.find_element(By.TAG_NAME, \"h1\").text\n",
    "            Title.append(h1)\n",
    "        except:\n",
    "            Title.append('')\n",
    "\n",
    "        Title_url.append(i)\n",
    "    \n",
    "        try:\n",
    "            Pro_num = driver.find_element(By.CLASS_NAME, \"product-info-sku\").text\n",
    "            Product_number.append(Pro_num)\n",
    "        except:\n",
    "            Product_number.append('')\n",
    "            \n",
    "        try:\n",
    "            shor_des = driver.find_element(By.CLASS_NAME, \"digest\").text\n",
    "            Short_des.append(shor_des)\n",
    "        except:\n",
    "            Short_des.append('')\n",
    "        \n",
    "        try:\n",
    "            prc = driver.find_element(By.CLASS_NAME, \"price\").text\n",
    "            Price.append(prc)\n",
    "        except:\n",
    "            Price.append('')\n",
    "    \n",
    "        try:\n",
    "            img_element = driver.find_element(By.TAG_NAME, \"img\")\n",
    "            img_link = img_element.get_attribute(\"src\")\n",
    "            Image_url.append(img_link)\n",
    "        except:\n",
    "            Image_url.append('')\n",
    "    \n",
    "        try:\n",
    "            des = driver.find_element(By.CLASS_NAME, \"main-content\").text\n",
    "            Description.append(des)\n",
    "        except:\n",
    "            Description.append('')\n",
    "        \n",
    "        c = c + 1\n",
    "        print(f\"Product {c} completed.\")\n",
    "    \n",
    "    with open( file_name + '.csv', 'w', encoding='utf-8', newline='') as file:\n",
    "        writer = csv.writer(file)\n",
    "        writer.writerow(['Title','Title Url', 'Product Number', 'Short Description', 'Price', 'Image Url', 'Description'])\n",
    "        \n",
    "        for i in range(len(Title)):\n",
    "            writer.writerow([Title[i],Title_url[i], Product_number[i], Short_des[i], Price[i], Image_url[i], Description[i]])\n",
    "    \n",
    "    return file_name"
   ]
  },
  {
   "cell_type": "markdown",
   "metadata": {},
   "source": [
    "Enter the link of Page where Products are placed"
   ]
  },
  {
   "cell_type": "code",
   "execution_count": 13,
   "metadata": {},
   "outputs": [],
   "source": [
    "url = input(\"Enter Url: \")\n",
    "links = Products_links(url)"
   ]
  },
  {
   "cell_type": "markdown",
   "metadata": {},
   "source": [
    "Removing duplication of links"
   ]
  },
  {
   "cell_type": "code",
   "execution_count": 14,
   "metadata": {},
   "outputs": [],
   "source": [
    "from collections import OrderedDict\n",
    "links = list(OrderedDict.fromkeys(links))"
   ]
  },
  {
   "cell_type": "markdown",
   "metadata": {},
   "source": [
    "Total number of products"
   ]
  },
  {
   "cell_type": "code",
   "execution_count": 15,
   "metadata": {},
   "outputs": [
    {
     "data": {
      "text/plain": [
       "9"
      ]
     },
     "execution_count": 15,
     "metadata": {},
     "output_type": "execute_result"
    }
   ],
   "source": [
    "len(links)"
   ]
  },
  {
   "cell_type": "markdown",
   "metadata": {},
   "source": [
    "Enter file name"
   ]
  },
  {
   "cell_type": "code",
   "execution_count": 16,
   "metadata": {},
   "outputs": [
    {
     "name": "stdout",
     "output_type": "stream",
     "text": [
      "Product 1 completed.\n",
      "Product 2 completed.\n",
      "Product 3 completed.\n",
      "Product 4 completed.\n",
      "Product 5 completed.\n",
      "Product 6 completed.\n",
      "Product 7 completed.\n",
      "Product 8 completed.\n",
      "Product 9 completed.\n"
     ]
    },
    {
     "data": {
      "text/plain": [
       "'Bremserør'"
      ]
     },
     "execution_count": 16,
     "metadata": {},
     "output_type": "execute_result"
    }
   ],
   "source": [
    "file_name = input(\"Enter File Name:\")\n",
    "Product_details(file_name,links)"
   ]
  },
  {
   "cell_type": "code",
   "execution_count": null,
   "metadata": {},
   "outputs": [],
   "source": [
    "# driver.quit()"
   ]
  },
  {
   "cell_type": "markdown",
   "metadata": {},
   "source": [
    "Data Cleaning"
   ]
  },
  {
   "cell_type": "code",
   "execution_count": 17,
   "metadata": {},
   "outputs": [],
   "source": [
    "import base64\n",
    "import requests\n",
    "import pandas as pd"
   ]
  },
  {
   "cell_type": "code",
   "execution_count": 18,
   "metadata": {},
   "outputs": [],
   "source": [
    "df1 = pd.read_csv(file_name+'.csv')"
   ]
  },
  {
   "cell_type": "code",
   "execution_count": 19,
   "metadata": {},
   "outputs": [
    {
     "data": {
      "text/html": [
       "<div>\n",
       "<style scoped>\n",
       "    .dataframe tbody tr th:only-of-type {\n",
       "        vertical-align: middle;\n",
       "    }\n",
       "\n",
       "    .dataframe tbody tr th {\n",
       "        vertical-align: top;\n",
       "    }\n",
       "\n",
       "    .dataframe thead th {\n",
       "        text-align: right;\n",
       "    }\n",
       "</style>\n",
       "<table border=\"1\" class=\"dataframe\">\n",
       "  <thead>\n",
       "    <tr style=\"text-align: right;\">\n",
       "      <th></th>\n",
       "      <th>Title</th>\n",
       "      <th>Title Url</th>\n",
       "      <th>Product Number</th>\n",
       "      <th>Short Description</th>\n",
       "      <th>Price</th>\n",
       "      <th>Image Url</th>\n",
       "      <th>Description</th>\n",
       "    </tr>\n",
       "  </thead>\n",
       "  <tbody>\n",
       "    <tr>\n",
       "      <th>0</th>\n",
       "      <td>1910 BREMSERØR 3/16\" X 7,62M</td>\n",
       "      <td>https://www.bema.no/bremseror/1910-bremseror-3...</td>\n",
       "      <td>Varenr: BRE1910\\nEAN kode: 5706021026603</td>\n",
       "      <td>3/16\" bremserør av kobber. 7,62m.</td>\n",
       "      <td>601,00</td>\n",
       "      <td>data:image/jpeg;base64,/9j/4AAQSkZJRgABAQECPAI...</td>\n",
       "      <td>3/16\" bremserør av kobber. 7,62m.</td>\n",
       "    </tr>\n",
       "    <tr>\n",
       "      <th>1</th>\n",
       "      <td>1911 BREMSERØR 3/16\" X 50M</td>\n",
       "      <td>https://www.bema.no/bremseror/1911-bremseror-3...</td>\n",
       "      <td>Varenr: BRE1911\\nEAN kode: 5706021026696</td>\n",
       "      <td>3/16\" bremserør av kobber. 50m.</td>\n",
       "      <td>3 013,00</td>\n",
       "      <td>data:image/jpeg;base64,/9j/4AAQSkZJRgABAQECPAI...</td>\n",
       "      <td>3/16\" bremserør av kobber. 50m.</td>\n",
       "    </tr>\n",
       "    <tr>\n",
       "      <th>2</th>\n",
       "      <td>1915 BREMSERØR 3/16\" X 5M</td>\n",
       "      <td>https://www.bema.no/bremseror/1915-bremseror-3...</td>\n",
       "      <td>Varenr: BRE1915\\nEAN kode: 5706021026870</td>\n",
       "      <td>3/16\" bremserør av kobbernikkel. 5m.</td>\n",
       "      <td>581,00</td>\n",
       "      <td>data:image/jpeg;base64,/9j/4AAQSkZJRgABAQECPAI...</td>\n",
       "      <td>3/16\" bremserør av kobbernikkel. 5m.</td>\n",
       "    </tr>\n",
       "    <tr>\n",
       "      <th>3</th>\n",
       "      <td>1940 BREMSERØR 3/8\" 7,62M</td>\n",
       "      <td>https://www.bema.no/bremseror/1940-bremseror-3...</td>\n",
       "      <td>Varenr: BRE1940\\nEAN kode: 5706021026634</td>\n",
       "      <td>3/8\" bremserør av kobber. 7,62m.</td>\n",
       "      <td>1 100,00</td>\n",
       "      <td>data:image/jpeg;base64,/9j/4AAQSkZJRgABAQECPAI...</td>\n",
       "      <td>3/8\" bremserør av kobber. 7,62m.</td>\n",
       "    </tr>\n",
       "    <tr>\n",
       "      <th>4</th>\n",
       "      <td>1950 BREMSERØR 5MM X 5M</td>\n",
       "      <td>https://www.bema.no/bremseror/1950-bremseror-5...</td>\n",
       "      <td>Varenr: BRE1950\\nEAN kode: 5706021026641</td>\n",
       "      <td>5mm bremserør av kobber. 5m</td>\n",
       "      <td>598,00</td>\n",
       "      <td>data:image/jpeg;base64,/9j/4AAQSkZJRgABAQECPAI...</td>\n",
       "      <td>5mm bremserør av kobber. 5m</td>\n",
       "    </tr>\n",
       "    <tr>\n",
       "      <th>5</th>\n",
       "      <td>1951 BREMSERØR 5MM X 50M</td>\n",
       "      <td>https://www.bema.no/bremseror/1951-bremseror-5...</td>\n",
       "      <td>Varenr: BRE1951\\nEAN kode: 5706021026733</td>\n",
       "      <td>5mm bremserør av kobber. 50m</td>\n",
       "      <td>4 144,00</td>\n",
       "      <td>data:image/jpeg;base64,/9j/4AAQSkZJRgABAQECPAI...</td>\n",
       "      <td>5mm bremserør av kobber. 50m</td>\n",
       "    </tr>\n",
       "    <tr>\n",
       "      <th>6</th>\n",
       "      <td>1960 BREMSERØR 6MM X 5M</td>\n",
       "      <td>https://www.bema.no/bremseror/1960-bremseror-6...</td>\n",
       "      <td>Varenr: BRE1960\\nEAN kode: 5706021026658</td>\n",
       "      <td>6mm bremserør av kobber. 5m</td>\n",
       "      <td>623,00</td>\n",
       "      <td>data:image/jpeg;base64,/9j/4AAQSkZJRgABAQECPAI...</td>\n",
       "      <td>6mm bremserør av kobber. 5m</td>\n",
       "    </tr>\n",
       "    <tr>\n",
       "      <th>7</th>\n",
       "      <td>1970 BREMSERØR 8MM X 5M</td>\n",
       "      <td>https://www.bema.no/bremseror/1970-bremseror-8...</td>\n",
       "      <td>Varenr: BRE1970\\nEAN kode: 5706021026665</td>\n",
       "      <td>8mm bremserør av kobber. 5m</td>\n",
       "      <td>819,00</td>\n",
       "      <td>data:image/jpeg;base64,/9j/4AAQSkZJRgABAQECPAI...</td>\n",
       "      <td>8mm bremserør av kobber. 5m</td>\n",
       "    </tr>\n",
       "    <tr>\n",
       "      <th>8</th>\n",
       "      <td>1980 BREMSERØR 10MM X 5M</td>\n",
       "      <td>https://www.bema.no/bremseror/1980-bremseror-1...</td>\n",
       "      <td>Varenr: BRE1980\\nEAN kode: 5706021026672</td>\n",
       "      <td>10mm bremserør av kobber. 5m</td>\n",
       "      <td>1 075,00</td>\n",
       "      <td>data:image/jpeg;base64,/9j/4AAQSkZJRgABAQECPAI...</td>\n",
       "      <td>10mm bremserør av kobber. 5m</td>\n",
       "    </tr>\n",
       "  </tbody>\n",
       "</table>\n",
       "</div>"
      ],
      "text/plain": [
       "                          Title  \\\n",
       "0  1910 BREMSERØR 3/16\" X 7,62M   \n",
       "1    1911 BREMSERØR 3/16\" X 50M   \n",
       "2     1915 BREMSERØR 3/16\" X 5M   \n",
       "3     1940 BREMSERØR 3/8\" 7,62M   \n",
       "4       1950 BREMSERØR 5MM X 5M   \n",
       "5      1951 BREMSERØR 5MM X 50M   \n",
       "6       1960 BREMSERØR 6MM X 5M   \n",
       "7       1970 BREMSERØR 8MM X 5M   \n",
       "8      1980 BREMSERØR 10MM X 5M   \n",
       "\n",
       "                                           Title Url  \\\n",
       "0  https://www.bema.no/bremseror/1910-bremseror-3...   \n",
       "1  https://www.bema.no/bremseror/1911-bremseror-3...   \n",
       "2  https://www.bema.no/bremseror/1915-bremseror-3...   \n",
       "3  https://www.bema.no/bremseror/1940-bremseror-3...   \n",
       "4  https://www.bema.no/bremseror/1950-bremseror-5...   \n",
       "5  https://www.bema.no/bremseror/1951-bremseror-5...   \n",
       "6  https://www.bema.no/bremseror/1960-bremseror-6...   \n",
       "7  https://www.bema.no/bremseror/1970-bremseror-8...   \n",
       "8  https://www.bema.no/bremseror/1980-bremseror-1...   \n",
       "\n",
       "                             Product Number  \\\n",
       "0  Varenr: BRE1910\\nEAN kode: 5706021026603   \n",
       "1  Varenr: BRE1911\\nEAN kode: 5706021026696   \n",
       "2  Varenr: BRE1915\\nEAN kode: 5706021026870   \n",
       "3  Varenr: BRE1940\\nEAN kode: 5706021026634   \n",
       "4  Varenr: BRE1950\\nEAN kode: 5706021026641   \n",
       "5  Varenr: BRE1951\\nEAN kode: 5706021026733   \n",
       "6  Varenr: BRE1960\\nEAN kode: 5706021026658   \n",
       "7  Varenr: BRE1970\\nEAN kode: 5706021026665   \n",
       "8  Varenr: BRE1980\\nEAN kode: 5706021026672   \n",
       "\n",
       "                      Short Description     Price  \\\n",
       "0     3/16\" bremserør av kobber. 7,62m.    601,00   \n",
       "1       3/16\" bremserør av kobber. 50m.  3 013,00   \n",
       "2  3/16\" bremserør av kobbernikkel. 5m.    581,00   \n",
       "3      3/8\" bremserør av kobber. 7,62m.  1 100,00   \n",
       "4           5mm bremserør av kobber. 5m    598,00   \n",
       "5          5mm bremserør av kobber. 50m  4 144,00   \n",
       "6           6mm bremserør av kobber. 5m    623,00   \n",
       "7           8mm bremserør av kobber. 5m    819,00   \n",
       "8          10mm bremserør av kobber. 5m  1 075,00   \n",
       "\n",
       "                                           Image Url  \\\n",
       "0  data:image/jpeg;base64,/9j/4AAQSkZJRgABAQECPAI...   \n",
       "1  data:image/jpeg;base64,/9j/4AAQSkZJRgABAQECPAI...   \n",
       "2  data:image/jpeg;base64,/9j/4AAQSkZJRgABAQECPAI...   \n",
       "3  data:image/jpeg;base64,/9j/4AAQSkZJRgABAQECPAI...   \n",
       "4  data:image/jpeg;base64,/9j/4AAQSkZJRgABAQECPAI...   \n",
       "5  data:image/jpeg;base64,/9j/4AAQSkZJRgABAQECPAI...   \n",
       "6  data:image/jpeg;base64,/9j/4AAQSkZJRgABAQECPAI...   \n",
       "7  data:image/jpeg;base64,/9j/4AAQSkZJRgABAQECPAI...   \n",
       "8  data:image/jpeg;base64,/9j/4AAQSkZJRgABAQECPAI...   \n",
       "\n",
       "                            Description  \n",
       "0     3/16\" bremserør av kobber. 7,62m.  \n",
       "1       3/16\" bremserør av kobber. 50m.  \n",
       "2  3/16\" bremserør av kobbernikkel. 5m.  \n",
       "3      3/8\" bremserør av kobber. 7,62m.  \n",
       "4           5mm bremserør av kobber. 5m  \n",
       "5          5mm bremserør av kobber. 50m  \n",
       "6           6mm bremserør av kobber. 5m  \n",
       "7           8mm bremserør av kobber. 5m  \n",
       "8          10mm bremserør av kobber. 5m  "
      ]
     },
     "execution_count": 19,
     "metadata": {},
     "output_type": "execute_result"
    }
   ],
   "source": [
    "df1"
   ]
  },
  {
   "cell_type": "markdown",
   "metadata": {},
   "source": [
    "Modify base64 format URLs to regular URLs"
   ]
  },
  {
   "cell_type": "code",
   "execution_count": 20,
   "metadata": {},
   "outputs": [],
   "source": [
    "base =[]\n",
    "for url in df1['Image Url']:\n",
    "    if url.startswith('data:image'):\n",
    "        base64_link = url\n",
    "        binary_data = base64.b64decode(base64_link.split(\",\")[1])\n",
    "\n",
    "        response = requests.post(\"https://api.imgbb.com/1/upload\", \n",
    "                                files={\"image\": binary_data},\n",
    "                                data={\"key\": \"878da7435f172283e4ada776b37ed00a\"})\n",
    "        regular_link = response.json()[\"data\"][\"url\"]\n",
    "        base.append(regular_link)\n",
    "    else:\n",
    "        base.append(url)      \n",
    "df1['Image Url'] = base\n",
    "df1.to_csv(\"Modify.csv\", index=False)\n"
   ]
  },
  {
   "cell_type": "code",
   "execution_count": 21,
   "metadata": {},
   "outputs": [],
   "source": [
    "df1 = pd.read_csv('Modify.csv')"
   ]
  },
  {
   "cell_type": "code",
   "execution_count": 22,
   "metadata": {},
   "outputs": [
    {
     "data": {
      "text/html": [
       "<div>\n",
       "<style scoped>\n",
       "    .dataframe tbody tr th:only-of-type {\n",
       "        vertical-align: middle;\n",
       "    }\n",
       "\n",
       "    .dataframe tbody tr th {\n",
       "        vertical-align: top;\n",
       "    }\n",
       "\n",
       "    .dataframe thead th {\n",
       "        text-align: right;\n",
       "    }\n",
       "</style>\n",
       "<table border=\"1\" class=\"dataframe\">\n",
       "  <thead>\n",
       "    <tr style=\"text-align: right;\">\n",
       "      <th></th>\n",
       "      <th>Title</th>\n",
       "      <th>Title Url</th>\n",
       "      <th>Product Number</th>\n",
       "      <th>Short Description</th>\n",
       "      <th>Price</th>\n",
       "      <th>Image Url</th>\n",
       "      <th>Description</th>\n",
       "    </tr>\n",
       "  </thead>\n",
       "  <tbody>\n",
       "    <tr>\n",
       "      <th>0</th>\n",
       "      <td>1910 BREMSERØR 3/16\" X 7,62M</td>\n",
       "      <td>https://www.bema.no/bremseror/1910-bremseror-3...</td>\n",
       "      <td>Varenr: BRE1910\\nEAN kode: 5706021026603</td>\n",
       "      <td>3/16\" bremserør av kobber. 7,62m.</td>\n",
       "      <td>601,00</td>\n",
       "      <td>https://i.ibb.co/VpMW4Dh/image.jpg</td>\n",
       "      <td>3/16\" bremserør av kobber. 7,62m.</td>\n",
       "    </tr>\n",
       "    <tr>\n",
       "      <th>1</th>\n",
       "      <td>1911 BREMSERØR 3/16\" X 50M</td>\n",
       "      <td>https://www.bema.no/bremseror/1911-bremseror-3...</td>\n",
       "      <td>Varenr: BRE1911\\nEAN kode: 5706021026696</td>\n",
       "      <td>3/16\" bremserør av kobber. 50m.</td>\n",
       "      <td>3 013,00</td>\n",
       "      <td>https://i.ibb.co/VpMW4Dh/image.jpg</td>\n",
       "      <td>3/16\" bremserør av kobber. 50m.</td>\n",
       "    </tr>\n",
       "    <tr>\n",
       "      <th>2</th>\n",
       "      <td>1915 BREMSERØR 3/16\" X 5M</td>\n",
       "      <td>https://www.bema.no/bremseror/1915-bremseror-3...</td>\n",
       "      <td>Varenr: BRE1915\\nEAN kode: 5706021026870</td>\n",
       "      <td>3/16\" bremserør av kobbernikkel. 5m.</td>\n",
       "      <td>581,00</td>\n",
       "      <td>https://i.ibb.co/VpMW4Dh/image.jpg</td>\n",
       "      <td>3/16\" bremserør av kobbernikkel. 5m.</td>\n",
       "    </tr>\n",
       "    <tr>\n",
       "      <th>3</th>\n",
       "      <td>1940 BREMSERØR 3/8\" 7,62M</td>\n",
       "      <td>https://www.bema.no/bremseror/1940-bremseror-3...</td>\n",
       "      <td>Varenr: BRE1940\\nEAN kode: 5706021026634</td>\n",
       "      <td>3/8\" bremserør av kobber. 7,62m.</td>\n",
       "      <td>1 100,00</td>\n",
       "      <td>https://i.ibb.co/VpMW4Dh/image.jpg</td>\n",
       "      <td>3/8\" bremserør av kobber. 7,62m.</td>\n",
       "    </tr>\n",
       "    <tr>\n",
       "      <th>4</th>\n",
       "      <td>1950 BREMSERØR 5MM X 5M</td>\n",
       "      <td>https://www.bema.no/bremseror/1950-bremseror-5...</td>\n",
       "      <td>Varenr: BRE1950\\nEAN kode: 5706021026641</td>\n",
       "      <td>5mm bremserør av kobber. 5m</td>\n",
       "      <td>598,00</td>\n",
       "      <td>https://i.ibb.co/VpMW4Dh/image.jpg</td>\n",
       "      <td>5mm bremserør av kobber. 5m</td>\n",
       "    </tr>\n",
       "    <tr>\n",
       "      <th>5</th>\n",
       "      <td>1951 BREMSERØR 5MM X 50M</td>\n",
       "      <td>https://www.bema.no/bremseror/1951-bremseror-5...</td>\n",
       "      <td>Varenr: BRE1951\\nEAN kode: 5706021026733</td>\n",
       "      <td>5mm bremserør av kobber. 50m</td>\n",
       "      <td>4 144,00</td>\n",
       "      <td>https://i.ibb.co/VpMW4Dh/image.jpg</td>\n",
       "      <td>5mm bremserør av kobber. 50m</td>\n",
       "    </tr>\n",
       "    <tr>\n",
       "      <th>6</th>\n",
       "      <td>1960 BREMSERØR 6MM X 5M</td>\n",
       "      <td>https://www.bema.no/bremseror/1960-bremseror-6...</td>\n",
       "      <td>Varenr: BRE1960\\nEAN kode: 5706021026658</td>\n",
       "      <td>6mm bremserør av kobber. 5m</td>\n",
       "      <td>623,00</td>\n",
       "      <td>https://i.ibb.co/VpMW4Dh/image.jpg</td>\n",
       "      <td>6mm bremserør av kobber. 5m</td>\n",
       "    </tr>\n",
       "    <tr>\n",
       "      <th>7</th>\n",
       "      <td>1970 BREMSERØR 8MM X 5M</td>\n",
       "      <td>https://www.bema.no/bremseror/1970-bremseror-8...</td>\n",
       "      <td>Varenr: BRE1970\\nEAN kode: 5706021026665</td>\n",
       "      <td>8mm bremserør av kobber. 5m</td>\n",
       "      <td>819,00</td>\n",
       "      <td>https://i.ibb.co/VpMW4Dh/image.jpg</td>\n",
       "      <td>8mm bremserør av kobber. 5m</td>\n",
       "    </tr>\n",
       "    <tr>\n",
       "      <th>8</th>\n",
       "      <td>1980 BREMSERØR 10MM X 5M</td>\n",
       "      <td>https://www.bema.no/bremseror/1980-bremseror-1...</td>\n",
       "      <td>Varenr: BRE1980\\nEAN kode: 5706021026672</td>\n",
       "      <td>10mm bremserør av kobber. 5m</td>\n",
       "      <td>1 075,00</td>\n",
       "      <td>https://i.ibb.co/VpMW4Dh/image.jpg</td>\n",
       "      <td>10mm bremserør av kobber. 5m</td>\n",
       "    </tr>\n",
       "  </tbody>\n",
       "</table>\n",
       "</div>"
      ],
      "text/plain": [
       "                          Title  \\\n",
       "0  1910 BREMSERØR 3/16\" X 7,62M   \n",
       "1    1911 BREMSERØR 3/16\" X 50M   \n",
       "2     1915 BREMSERØR 3/16\" X 5M   \n",
       "3     1940 BREMSERØR 3/8\" 7,62M   \n",
       "4       1950 BREMSERØR 5MM X 5M   \n",
       "5      1951 BREMSERØR 5MM X 50M   \n",
       "6       1960 BREMSERØR 6MM X 5M   \n",
       "7       1970 BREMSERØR 8MM X 5M   \n",
       "8      1980 BREMSERØR 10MM X 5M   \n",
       "\n",
       "                                           Title Url  \\\n",
       "0  https://www.bema.no/bremseror/1910-bremseror-3...   \n",
       "1  https://www.bema.no/bremseror/1911-bremseror-3...   \n",
       "2  https://www.bema.no/bremseror/1915-bremseror-3...   \n",
       "3  https://www.bema.no/bremseror/1940-bremseror-3...   \n",
       "4  https://www.bema.no/bremseror/1950-bremseror-5...   \n",
       "5  https://www.bema.no/bremseror/1951-bremseror-5...   \n",
       "6  https://www.bema.no/bremseror/1960-bremseror-6...   \n",
       "7  https://www.bema.no/bremseror/1970-bremseror-8...   \n",
       "8  https://www.bema.no/bremseror/1980-bremseror-1...   \n",
       "\n",
       "                             Product Number  \\\n",
       "0  Varenr: BRE1910\\nEAN kode: 5706021026603   \n",
       "1  Varenr: BRE1911\\nEAN kode: 5706021026696   \n",
       "2  Varenr: BRE1915\\nEAN kode: 5706021026870   \n",
       "3  Varenr: BRE1940\\nEAN kode: 5706021026634   \n",
       "4  Varenr: BRE1950\\nEAN kode: 5706021026641   \n",
       "5  Varenr: BRE1951\\nEAN kode: 5706021026733   \n",
       "6  Varenr: BRE1960\\nEAN kode: 5706021026658   \n",
       "7  Varenr: BRE1970\\nEAN kode: 5706021026665   \n",
       "8  Varenr: BRE1980\\nEAN kode: 5706021026672   \n",
       "\n",
       "                      Short Description     Price  \\\n",
       "0     3/16\" bremserør av kobber. 7,62m.    601,00   \n",
       "1       3/16\" bremserør av kobber. 50m.  3 013,00   \n",
       "2  3/16\" bremserør av kobbernikkel. 5m.    581,00   \n",
       "3      3/8\" bremserør av kobber. 7,62m.  1 100,00   \n",
       "4           5mm bremserør av kobber. 5m    598,00   \n",
       "5          5mm bremserør av kobber. 50m  4 144,00   \n",
       "6           6mm bremserør av kobber. 5m    623,00   \n",
       "7           8mm bremserør av kobber. 5m    819,00   \n",
       "8          10mm bremserør av kobber. 5m  1 075,00   \n",
       "\n",
       "                            Image Url                           Description  \n",
       "0  https://i.ibb.co/VpMW4Dh/image.jpg     3/16\" bremserør av kobber. 7,62m.  \n",
       "1  https://i.ibb.co/VpMW4Dh/image.jpg       3/16\" bremserør av kobber. 50m.  \n",
       "2  https://i.ibb.co/VpMW4Dh/image.jpg  3/16\" bremserør av kobbernikkel. 5m.  \n",
       "3  https://i.ibb.co/VpMW4Dh/image.jpg      3/8\" bremserør av kobber. 7,62m.  \n",
       "4  https://i.ibb.co/VpMW4Dh/image.jpg           5mm bremserør av kobber. 5m  \n",
       "5  https://i.ibb.co/VpMW4Dh/image.jpg          5mm bremserør av kobber. 50m  \n",
       "6  https://i.ibb.co/VpMW4Dh/image.jpg           6mm bremserør av kobber. 5m  \n",
       "7  https://i.ibb.co/VpMW4Dh/image.jpg           8mm bremserør av kobber. 5m  \n",
       "8  https://i.ibb.co/VpMW4Dh/image.jpg          10mm bremserør av kobber. 5m  "
      ]
     },
     "execution_count": 22,
     "metadata": {},
     "output_type": "execute_result"
    }
   ],
   "source": [
    "df1"
   ]
  }
 ],
 "metadata": {
  "kernelspec": {
   "display_name": "Python 3",
   "language": "python",
   "name": "python3"
  },
  "language_info": {
   "codemirror_mode": {
    "name": "ipython",
    "version": 3
   },
   "file_extension": ".py",
   "mimetype": "text/x-python",
   "name": "python",
   "nbconvert_exporter": "python",
   "pygments_lexer": "ipython3",
   "version": "3.10.2"
  },
  "orig_nbformat": 4
 },
 "nbformat": 4,
 "nbformat_minor": 2
}
